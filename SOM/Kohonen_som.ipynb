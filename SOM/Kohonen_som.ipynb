{
 "cells": [
  {
   "cell_type": "code",
   "execution_count": 47,
   "metadata": {
    "collapsed": false,
    "scrolled": true
   },
   "outputs": [
    {
     "name": "stdout",
     "output_type": "stream",
     "text": [
      "Wall time: 1min 21s\n"
     ]
    }
   ],
   "source": [
    "import numpy as np\n",
    "import matplotlib.pyplot as plt\n",
    "\n",
    "np.random.seed(100)\n",
    "def Distance(x,y,type='none'):\n",
    "    \"\"\"\n",
    "    Compute distance.\n",
    "    \"\"\"\n",
    "    x = np.array(x)\n",
    "    y = np.array(y)\n",
    "    \n",
    "    if type == 'none' or type == 'Euclidean':\n",
    "        return np.linalg.norm(x-y)\n",
    "    if type == 'Manhattan':\n",
    "        return np.sum(np.abs(np.abs(x)-np.abs(y)))\n",
    "    \n",
    "    if type not in ['none','Euclidean','Manhattan']:\n",
    "        raise ValueError(\"Please input correct type!\")\n",
    "        \n",
    "class SOM_NN:\n",
    "    \"\"\"\n",
    "    Kohonen Neural Network\n",
    "    \"\"\"\n",
    "    def __init__(self,data,nn=30,iterator=1000):\n",
    "        # Use array_like data。\n",
    "        data = np.array(data)\n",
    "        # 自组织网络结构和训练个数\n",
    "        self.nn = nn\n",
    "        self.n_sample,self.d = data.shape\n",
    "        self.som = np.random.rand(self.nn,self.nn,self.d)\n",
    "        \n",
    "        # 一些参数\n",
    "        self.niter = iterator\n",
    "        self.lamda = self.niter/3.\n",
    "        self.radius = self.nn/2\n",
    "        self.learn_rate = 0.1\n",
    "    \n",
    "    def find_BMU(self,point):\n",
    "        \"\"\"\n",
    "        Find the Best Matching Unit.\n",
    "        \"\"\"\n",
    "        best_position = [0,0]\n",
    "        best_distance = 999999\n",
    "        for i in xrange(self.nn):\n",
    "            for j in xrange(self.nn):\n",
    "                distance = Distance(point, self.som[i,j,:],type = 'none')\n",
    "                if best_distance > distance:\n",
    "                    best_distance = distance\n",
    "                    best_position = [i,j]\n",
    "        \n",
    "        return best_position\n",
    "    \n",
    "    def fit(self,data):\n",
    "        # 训练数据\n",
    "        data = np.array(data)\n",
    "        for t in xrange(self.niter):\n",
    "            \n",
    "            index = t%len(data)\n",
    "            bmu = self.find_BMU(data[index])\n",
    "            self.ajust_weight(t,bmu,data[index])\n",
    "            \n",
    "    def ajust_weight(self,t,bmu,point):\n",
    "        learning_rate = self.learn_rate * np.exp(-t/self.lamda)\n",
    "        radius = self.radius * np.exp(-t/self.lamda)\n",
    "        for i in xrange(self.nn):\n",
    "            for j in xrange(self.nn):\n",
    "                dis = Distance([i,j], [bmu[0],bmu[1]],type='Manhattan')\n",
    "                if dis < radius:\n",
    "                    self.som[i,j,:] = self.som[i,j,:] + learning_rate * np.exp(-dis**2 / (2* radius**2)) * (point-self.som[i,j,:])\n",
    "                    \n",
    "if __name__ == '__main__':\n",
    "    data = np.random.rand(2000,3)  # 半径衰减有点问题，学习率衰减也有问题\n",
    "    som = SOM_NN(data,nn=40,iterator=2000)\n",
    "    %time som.fit(data)\n",
    "    plt.imshow(som.som)\n",
    "    plt.savefig('mypic.jpg')"
   ]
  }
 ],
 "metadata": {
  "kernelspec": {
   "display_name": "Python 2",
   "language": "python",
   "name": "python2"
  },
  "language_info": {
   "codemirror_mode": {
    "name": "ipython",
    "version": 2
   },
   "file_extension": ".py",
   "mimetype": "text/x-python",
   "name": "python",
   "nbconvert_exporter": "python",
   "pygments_lexer": "ipython2",
   "version": "2.7.10"
  }
 },
 "nbformat": 4,
 "nbformat_minor": 0
}
